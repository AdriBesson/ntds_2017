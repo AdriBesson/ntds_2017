{
 "cells": [
  {
   "cell_type": "markdown",
   "metadata": {},
   "source": [
    "# NTDS assignment 4: feedback\n",
    "[Michaël Defferrard](http://deff.ch), [Effrosyni Simou](https://lts4.epfl.ch/simou), [Hermina Petric Maretić](https://people.epfl.ch/hermina.petricmaretic), EPFL [LTS2](https://lts2.epfl.ch) & [LTS4](https://lts4.epfl.ch)"
   ]
  },
  {
   "cell_type": "markdown",
   "metadata": {},
   "source": [
    "The following grading scheme was followed for the correction of the fourth assignment, on a total of 100 points.\n",
    "\n",
    "You'll find some comments and common mistakes below each task.\n",
    "\n",
    "### 1 Compute the Laplacian with the PyGSP (5 points)\n",
    "### 2 Fourier from combinatorial or normalized Laplacian (5 points)\n",
    "### 3 Laplacian eigenmaps (10 points)\n",
    "\n",
    "## Filter localization\n",
    "\n",
    "### 4 Localized kernel expression (15 points)\n",
    "### 5 Localized kernel implementation (15 points)\n",
    "### 6 Smooth signal question (5 points)\n",
    "### 7 Signals in Fourier (10 points)\n",
    "\n",
    "## Transductive learning\n",
    "\n",
    "### 8 Solution of the optimization problem (15 points)\n",
    "### 9 Implementation of the solution (15 points)\n",
    "### 10 Accuracy vs. quantity of labeled data (5 points)"
   ]
  }
 ],
 "metadata": {},
 "nbformat": 4,
 "nbformat_minor": 2
}
