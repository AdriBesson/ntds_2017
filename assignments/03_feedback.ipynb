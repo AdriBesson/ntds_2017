{
 "cells": [
  {
   "cell_type": "markdown",
   "metadata": {},
   "source": [
    "# [NTDS'17] assignment 3: feedback\n",
    "[ntds'17]: https://github.com/mdeff/ntds_2017\n",
    "\n",
    "[Michaël Defferrard](http://deff.ch), [EPFL LTS2](http://lts2.epfl.ch)"
   ]
  },
  {
   "cell_type": "markdown",
   "metadata": {},
   "source": [
    "The following grading scheme was followed for the correction of the third assignment, on a total of 100 points.\n",
    "\n",
    "You'll find some comments and common mistakes below each task.\n",
    "\n",
    "## Data and features (25 points)\n",
    "\n",
    "### 1 Code: get genre from FMA (5 points)\n",
    "### 2 Code: fill table with genres (5 points)\n",
    "### 3 Code: compute MFCCs (5 points)\n",
    "### 4 Code: summary statistics (5 points)\n",
    "### 5 Code: feature selection (5 points)\n",
    "\n",
    "## Graph (55 + 7 points)\n",
    "\n",
    "### 6 Question: what is the cosine distance (2 points)\n",
    "### 7 Code: distances (3 points)\n",
    "### 8 Question: distances equal to zero (4 points)\n",
    "### 9 Bonus: alternative kernel (3 points)\n",
    "### 10 Code: weights (4 points)\n",
    "### 11 Code: nearest neightbors (7 points)\n",
    "### 12 Bonus: adjacency matrix visualization (4 points)\n",
    "### 13 Code: degrees (3 points)\n",
    "### 14 Question: choice of Laplacian (3 points)\n",
    "### 15 Code: Laplacian (4 points)\n",
    "### 16 Code: number of edges (3 points)\n",
    "### 17 Question: which eigensolver (4 points)\n",
    "### 18 Code: eigenvectors & eigenvalues (5 points)\n",
    "### 19 Question: eigenvectors & eigenvalues (5 points)\n",
    "### 20 Question: connectedness (4 points)\n",
    "### 21 Question: first eigenvector (4 points)\n",
    "\n",
    "## Visualization and clustering (20 + 3 points)\n",
    "\n",
    "### 22 Question: Why not the first eigenvector (3 points)\n",
    "### 23 Code: 2D graph embedding (3 points)\n",
    "### 24 Question: appearance of genre (5 points)\n",
    "### 25 Code: classification with Fiedler vector (4 points)\n",
    "### 26 Code: error rate (5 points)\n",
    "### 27 Bonus: method name and goal (3 points)"
   ]
  }
 ],
 "metadata": {},
 "nbformat": 4,
 "nbformat_minor": 2
}
